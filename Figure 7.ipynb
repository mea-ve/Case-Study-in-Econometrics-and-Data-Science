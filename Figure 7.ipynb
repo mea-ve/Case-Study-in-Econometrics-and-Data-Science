{
 "cells": [
  {
   "cell_type": "code",
   "execution_count": null,
   "metadata": {},
   "outputs": [],
   "source": [
    "# Hyperparameter grids\n",
    "random_state_grid = [251]\n",
    "n_estimators_grid = [100]\n",
    "\n",
    "# Store MSE and hyperparameter combinations\n",
    "rmse_results_rf = []\n",
    "\n",
    "# Run RandomForestRegressor with varying max_features\n",
    "for random_state, n_estimators in itertools.product(\n",
    "        random_state_grid, n_estimators_grid):\n",
    "\n",
    "    rf_model = RandomForestRegressor(n_estimators=n_estimators,\n",
    "                                         random_state=random_state, n_jobs=8, max_features=n_features//3,max_depth=3)\n",
    "\n",
    "    predictions_rf = []\n",
    "    actual_values_rf = []\n",
    "\n",
    "    tscv = TimeSeriesSplit(n_splits=30,  gap=0)\n",
    "\n",
    "    for train_index, test_index in tscv.split(df):\n",
    "        train, test = df.iloc[train_index], df.iloc[test_index]\n",
    "        X_train, y_train = train.drop(columns=['CPIAUCSL']), train['CPIAUCSL']\n",
    "        X_test, y_test = test.drop(columns=['CPIAUCSL']), test['CPIAUCSL']\n",
    "\n",
    "        rf_model.fit(X_train, y_train)\n",
    "        y_pred_rf = rf_model.predict(X_test)\n",
    "\n",
    "        predictions_rf.extend(y_pred_rf)\n",
    "        actual_values_rf.extend(y_test)\n",
    "\n",
    "    rmse_rf = np.sqrt(mean_squared_error(actual_values_rf, predictions_rf))\n",
    "    rmse_results_rf.append([random_state, n_estimators,  rmse_rf])\n",
    "\n",
    "    # Print results\n",
    "    print(f'RF - Random state: {random_state}, Number of estimators: {n_estimators},  RMSE: {rmse_rf}')\n",
    "\n",
    "from sklearn.tree import plot_tree\n",
    "plt.figure(figsize=(20, 10))\n",
    "plot_tree(rf_model.estimators_[0], max_depth=3, filled=True, fontsize=10, feature_names=df.drop(columns=['CPIAUCSL']).columns)\n",
    "plt.show()\n",
    "\n"
   ]
  }
 ],
 "metadata": {
  "language_info": {
   "name": "python"
  }
 },
 "nbformat": 4,
 "nbformat_minor": 2
}
