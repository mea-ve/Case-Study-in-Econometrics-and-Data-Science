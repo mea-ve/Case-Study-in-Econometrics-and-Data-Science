{
 "cells": [
  {
   "cell_type": "code",
   "execution_count": null,
   "metadata": {},
   "outputs": [],
   "source": [
    "# Packages\n",
    "\n",
    "import pandas as pd\n",
    "import numpy as np\n",
    "from sklearn.ensemble import RandomForestRegressor\n",
    "from sklearn.metrics import mean_squared_error, mean_absolute_error\n",
    "from sklearn.model_selection import TimeSeriesSplit\n",
    "from sklearn.linear_model import Ridge\n",
    "from sklearn.base import clone\n",
    "import matplotlib.pyplot as plt\n",
    "import itertools\n",
    "import time\n",
    "import imodels\n",
    "from imodels import HSTreeRegressor\n",
    "import warnings\n",
    "warnings.filterwarnings(\"ignore\")\n"
   ]
  },
  {
   "cell_type": "code",
   "execution_count": null,
   "metadata": {},
   "outputs": [],
   "source": [
    "data = 'FRED-MD.csv'\n",
    "df = pd.read_csv(data)\n",
    "df = df.drop(0)"
   ]
  },
  {
   "cell_type": "code",
   "execution_count": null,
   "metadata": {},
   "outputs": [],
   "source": [
    "df['sasdate'] = pd.to_datetime(df['sasdate'])\n",
    "df = df.set_index('sasdate')\n",
    "\n",
    "# Drop columns with NaN values\n",
    "df = df.dropna(axis=1)\n",
    "\n",
    "# Specify the number of lags\n",
    "num_lags = 4\n",
    "\n",
    "# Create lags for each variable\n",
    "lag_columns = []\n",
    "\n",
    "for column in df.columns:\n",
    "\tlag_cols = [f'{column}_lag_{lag}' for lag in range(1, num_lags + 1)]\n",
    "\tlag_df = pd.concat([df[column].shift(lag) for lag in range(1, num_lags + 1)], axis=1, keys=lag_cols)\n",
    "\tdf = pd.concat([df, lag_df], axis=1)\n",
    "\tlag_columns.extend(lag_cols)\n",
    "\n",
    "# Reset the index to keep 'sasdate' as a column\n",
    "df.reset_index(inplace=True)\n",
    "\n",
    "# Drop the first 4 rows\n",
    "df = df.drop(df.index[0:num_lags])\n",
    "\n",
    "# Drop all variables except the lags and 'CPIAUCSL'\n",
    "df = df[['sasdate', 'CPIAUCSL'] + lag_columns]\n",
    "\n",
    "print(df)\n"
   ]
  },
  {
   "cell_type": "code",
   "execution_count": null,
   "metadata": {},
   "outputs": [],
   "source": [
    "# Create a dummy for 11/1/2008 and beyond\n",
    "df['dummy_recession'] = np.where(df['sasdate'] >= '2008-11-01', 1, 0)\n",
    "\n",
    "# Create a dummy for 3/1/2020 and beyond\n",
    "df['dummy_covid'] = np.where(df['sasdate'] >= '2020-03-01', 1, 0)\n",
    "\n",
    "# Create a dummy for 3/1/2022 and beyond\n",
    "df['dummy_ukraine'] = np.where(df['sasdate'] >= '2022-03-01', 1, 0)\n",
    "\n",
    "# remove the date column\n",
    "df = df.drop(columns=['sasdate'])\n",
    "\n"
   ]
  }
 ],
 "metadata": {
  "language_info": {
   "name": "python"
  }
 },
 "nbformat": 4,
 "nbformat_minor": 2
}
