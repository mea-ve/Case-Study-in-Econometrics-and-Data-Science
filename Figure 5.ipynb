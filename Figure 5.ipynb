{
 "cells": [
  {
   "cell_type": "code",
   "execution_count": null,
   "metadata": {},
   "outputs": [],
   "source": [
    "# For rmse_values_hsrf find the mean of rmse_hsrf for each reg_param for n_estimators = 100\n",
    "rmse_values_hsrf = pd.read_csv('rmse_values_hsrf.csv')\n",
    "\n",
    "rmse_values_hsrf_n100 = rmse_values_hsrf[rmse_values_hsrf['n_estimators'] == 100]\n",
    "\n",
    "# Group by reg_param and calculate the mean of rmse_hsrf for each group\n",
    "mean_rmse_hsrf_n100 = rmse_values_hsrf_n100.groupby('reg_param')['rmse_hsrf'].mean()\n",
    "\n",
    "plt.semilogx(mean_rmse_hsrf_n100.index, mean_rmse_hsrf_n100, marker='o', color='black')\n",
    "\n",
    "\n",
    "\n",
    "plt.xlabel('Regularization Parameter')\n",
    "plt.ylabel('RMSE')\n",
    "plt.show()\n"
   ]
  }
 ],
 "metadata": {
  "language_info": {
   "name": "python"
  }
 },
 "nbformat": 4,
 "nbformat_minor": 2
}
